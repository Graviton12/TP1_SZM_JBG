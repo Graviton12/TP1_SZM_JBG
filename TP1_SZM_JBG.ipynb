{
 "cells": [
  {
   "cell_type": "markdown",
   "id": "6eca5ded",
   "metadata": {},
   "source": [
    "# Team Project 1: Samia Mahmood and Joseph Guthrie"
   ]
  },
  {
   "cell_type": "code",
   "execution_count": 1,
   "id": "3c2f4e86",
   "metadata": {},
   "outputs": [],
   "source": [
    "# Importing \n",
    "import pandas as pd\n",
    "import numpy as np\n",
    "import matplotlib.pyplot as plt\n",
    "import seaborn as sns"
   ]
  },
  {
   "cell_type": "code",
   "execution_count": null,
   "id": "89807af0",
   "metadata": {},
   "outputs": [],
   "source": []
  }
 ],
 "metadata": {
  "kernelspec": {
   "display_name": "Python 3 (ipykernel)",
   "language": "python",
   "name": "python3"
  },
  "language_info": {
   "codemirror_mode": {
    "name": "ipython",
    "version": 3
   },
   "file_extension": ".py",
   "mimetype": "text/x-python",
   "name": "python",
   "nbconvert_exporter": "python",
   "pygments_lexer": "ipython3",
   "version": "3.9.18"
  }
 },
 "nbformat": 4,
 "nbformat_minor": 5
}
